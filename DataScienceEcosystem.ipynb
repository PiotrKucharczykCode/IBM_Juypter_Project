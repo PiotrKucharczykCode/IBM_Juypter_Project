{
 "cells": [
  {
   "cell_type": "markdown",
   "id": "126d5bcb-2304-42d0-9e48-889b3052f720",
   "metadata": {},
   "source": [
    "# Data Science Tools and Ecosystem"
   ]
  },
  {
   "cell_type": "markdown",
   "id": "1c38e3fc-de07-4ee8-bcec-494faf3251a7",
   "metadata": {},
   "source": [
    "## Author\n",
    "Piotr Kucharczyk"
   ]
  },
  {
   "cell_type": "markdown",
   "id": "1239368c-8b88-4b37-88fe-afb808af40c0",
   "metadata": {},
   "source": [
    "In this notebook, Data Science Tools and Ecosystem are summarized.\n"
   ]
  },
  {
   "cell_type": "markdown",
   "id": "35467dfc-b215-44ae-97ae-d7afa51047da",
   "metadata": {},
   "source": [
    "**Objectives:**\n",
    "+ List popular languages for Data Science\n",
    "+ Present calculations in Jupyter\n",
    "+ Present Markdown format in Jupyter\n",
    "+ List common libraries for Data Science\n",
    "+ Use comments in Python syntax\n",
    "+ Create simple table in Markdown format\n"
   ]
  },
  {
   "cell_type": "markdown",
   "id": "0d00c995-f69f-4568-bc85-201704f38658",
   "metadata": {},
   "source": [
    "Some of the popular languages that Data Scientists use are:\n",
    "1. Python\n",
    "2. Java\n",
    "3. C++"
   ]
  },
  {
   "cell_type": "markdown",
   "id": "e93c97e5-6b35-4c6c-b6d8-c54cc0dad927",
   "metadata": {},
   "source": [
    "Some of the commonly used libraries used by Data Scientists include:\n",
    "1. TensorFlow\n",
    "2. ScikitLearn\n",
    "3. Pytorch"
   ]
  },
  {
   "cell_type": "markdown",
   "id": "41f5a918-8ca4-41ca-ac8c-56f46d011482",
   "metadata": {},
   "source": [
    "| Data Science Tools |\n",
    "|--------------------|\n",
    "| Jupyter Notebook |\n",
    "| RStudio |\n",
    "| VS Code |"
   ]
  },
  {
   "cell_type": "markdown",
   "id": "cd965be2-2aa5-469c-8cf3-0e74b333565b",
   "metadata": {},
   "source": [
    "### Below are a few examples of evaluating arithmetic expressions in Python"
   ]
  },
  {
   "cell_type": "code",
   "execution_count": 4,
   "id": "bac91b96-f85a-4e8a-9974-2ce12fca4fd3",
   "metadata": {},
   "outputs": [
    {
     "data": {
      "text/plain": [
       "17"
      ]
     },
     "execution_count": 4,
     "metadata": {},
     "output_type": "execute_result"
    }
   ],
   "source": [
    "# This a simple arithmetic expression to multiply then add integers\n",
    "(3*4)+5"
   ]
  },
  {
   "cell_type": "code",
   "execution_count": 8,
   "id": "01c3e0af-e16f-4c67-9fb0-732a8726f7f0",
   "metadata": {},
   "outputs": [
    {
     "name": "stdout",
     "output_type": "stream",
     "text": [
      "3.33\n"
     ]
    }
   ],
   "source": [
    "# This will convert 200 minutes to hours by diving by 60\n",
    "minutes_in_hour = 60\n",
    "minutes = 200\n",
    "print(round(minutes/minutes_in_hour, 2))"
   ]
  },
  {
   "cell_type": "code",
   "execution_count": null,
   "id": "5df088e7-657e-4dd0-a2cb-9deac166b6a3",
   "metadata": {},
   "outputs": [],
   "source": []
  }
 ],
 "metadata": {
  "kernelspec": {
   "display_name": "Python 3 (ipykernel)",
   "language": "python",
   "name": "python3"
  },
  "language_info": {
   "codemirror_mode": {
    "name": "ipython",
    "version": 3
   },
   "file_extension": ".py",
   "mimetype": "text/x-python",
   "name": "python",
   "nbconvert_exporter": "python",
   "pygments_lexer": "ipython3",
   "version": "3.12.8"
  }
 },
 "nbformat": 4,
 "nbformat_minor": 5
}
